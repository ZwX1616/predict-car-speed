{
 "cells": [
  {
   "cell_type": "code",
   "execution_count": null,
   "metadata": {},
   "outputs": [],
   "source": [
    "def fetch_image_and_label(batch_size, time_stamp):\n",
    "    numbers = []\n",
    "    while(len(numbers) != batch_size):\n",
    "        a = random.randint(0,total_img_num-time_stamp)\n",
    "        if a not in numbers:\n",
    "            numbers.append(a)\n",
    "    label = []\n",
    "    file_in = open('../data/train.txt', 'r')\n",
    "    for line in file_in.readlines():\n",
    "        label.append(float(line))\n",
    "    \n",
    "    x = np.zeros((batch_size, time_stamp, 480, 640, 3))\n",
    "    y = np.zeros((batch_size, time_stamp))\n",
    "    for i in range(batch_size):\n",
    "        for j in range(time_stamp):\n",
    "            img_name = numbers[i] + j\n",
    "            image_path = '../img/frame' + str(img_name) + \".jpg\"\n",
    "            img = cv2.imread(image_path)\n",
    "            x[i,j] = img\n",
    "            y[i,j] = label[numbers[i] + j]\n",
    "    \n",
    "    x = x.transpose(0, 4, 1, 2, 3) # (batch_size, 3, time_stamp, 480, 640)\n",
    "    return x, y\n",
    "\n",
    "def load_model(): \n",
    "    model_path = \"../weight/epoch_19.p\"\n",
    "    m = AlexLSTM()\n",
    "    m.load_state_dict(model_path)\n",
    "    m = m.cuda()\n",
    "    return m\n",
    "\n",
    "batch_size = 1 #5\n",
    "time_stamp = 40  #20\n",
    "criterion = nn.MSELoss()\n",
    "model = load_model()\n",
    "x, label = fetch_image_and_label(batch_size, time_stamp)\n",
    "x = V(th.from_numpy(x).float()).cuda()\n",
    "predict = model(x)\n",
    "loss = criterion(predict, y)\n",
    "print(\"loss : \", loss)\n",
    "print(\"---Predict---\")\n",
    "print(predict)\n",
    "print(\"---Label---\")\n",
    "print(y)"
   ]
  }
 ],
 "metadata": {
  "kernelspec": {
   "display_name": "Python 3",
   "language": "python",
   "name": "python3"
  },
  "language_info": {
   "codemirror_mode": {
    "name": "ipython",
    "version": 3
   },
   "file_extension": ".py",
   "mimetype": "text/x-python",
   "name": "python",
   "nbconvert_exporter": "python",
   "pygments_lexer": "ipython3",
   "version": "3.5.2"
  },
  "widgets": {
   "state": {},
   "version": "1.1.2"
  }
 },
 "nbformat": 4,
 "nbformat_minor": 2
}
