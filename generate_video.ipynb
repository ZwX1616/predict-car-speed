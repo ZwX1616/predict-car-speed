{
 "cells": [
  {
   "cell_type": "code",
   "execution_count": 4,
   "metadata": {},
   "outputs": [
    {
     "ename": "SyntaxError",
     "evalue": "invalid syntax (<ipython-input-4-40ef22389845>, line 55)",
     "output_type": "error",
     "traceback": [
      "\u001b[0;36m  File \u001b[0;32m\"<ipython-input-4-40ef22389845>\"\u001b[0;36m, line \u001b[0;32m55\u001b[0m\n\u001b[0;31m    challenge_clip = clip3.(process_image)\u001b[0m\n\u001b[0m                           ^\u001b[0m\n\u001b[0;31mSyntaxError\u001b[0m\u001b[0;31m:\u001b[0m invalid syntax\n"
     ]
    }
   ],
   "source": [
    "from moviepy.editor import VideoFileClip\n",
    "from IPython.display import HTML\n",
    "import cv2 as cv2\n",
    "import numpy as np\n",
    "import matplotlib.pyplot as plt\n",
    "\n",
    "def weighted_img(img, initial_img, α=0.8, β=1., γ=0.):\n",
    "    return cv2.addWeighted(initial_img, α, img, β, γ)\n",
    "\n",
    "\n",
    "def process_image(image):\n",
    "#     image_origin = image[:,:,:3]\n",
    "    text_img = np.zeros((480,640,3), np.uint8)\n",
    "    \n",
    "    font                   = cv2.FONT_HERSHEY_SIMPLEX\n",
    "    bottomLeftCornerOfText = (50,80)\n",
    "    fontScale              = 1\n",
    "    fontColor              = (255,0,0)\n",
    "    lineType               = 1\n",
    "    \n",
    "    speed = 0\n",
    "    if cn == len(lines):\n",
    "        speed = 0\n",
    "    else:\n",
    "        speed = lines[cn]\n",
    "    cv2.putText(text_img,speed, \n",
    "                bottomLeftCornerOfText, \n",
    "                font, \n",
    "                fontScale,\n",
    "                fontColor,\n",
    "                lineType)\n",
    "    \n",
    "    image_1 = weighted_img(text_img,image)\n",
    "    plt.imshow(image_1)\n",
    "    global cn\n",
    "    cn = cn + 1\n",
    "    return image_1\n",
    "    \n",
    "challenge_output = 'data/test_output.mp4'\n",
    "## To speed up the testing process you may want to try your pipeline on a shorter subclip of the video\n",
    "## To do so add .subclip(start_second,end_second) to the end of the line below\n",
    "## Where start_second and end_second are integer values representing the start and end of the subclip\n",
    "## You may also uncomment the following line for a subclip of the first 5 seconds\n",
    "# clip3 = VideoFileClip('test_videos/challenge.mp4').subclip(0,5)\n",
    "clip3 = VideoFileClip('data/test.mp4').subclip(0, 300)\n",
    "\n",
    "lines = []\n",
    "with open('test.txt') as fp:\n",
    "    line = fp.readline()\n",
    "    while line:\n",
    "        lines.append(line)\n",
    "        line = fp.readline()\n",
    "print(len(lines))\n",
    "cn = 0\n",
    "challenge_clip = clip3.fl_image(process_image)\n",
    "%time challenge_clip.write_videofile(challenge_output, audio=False)"
   ]
  },
  {
   "cell_type": "code",
   "execution_count": null,
   "metadata": {},
   "outputs": [],
   "source": []
  }
 ],
 "metadata": {
  "kernelspec": {
   "display_name": "Python 3",
   "language": "python",
   "name": "python3"
  },
  "language_info": {
   "codemirror_mode": {
    "name": "ipython",
    "version": 3
   },
   "file_extension": ".py",
   "mimetype": "text/x-python",
   "name": "python",
   "nbconvert_exporter": "python",
   "pygments_lexer": "ipython3",
   "version": "3.5.2"
  },
  "widgets": {
   "state": {},
   "version": "1.1.2"
  }
 },
 "nbformat": 4,
 "nbformat_minor": 2
}
